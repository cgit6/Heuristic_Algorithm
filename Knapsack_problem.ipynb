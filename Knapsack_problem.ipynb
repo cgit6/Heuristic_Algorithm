{
 "cells": [
  {
   "cell_type": "markdown",
   "metadata": {},
   "source": [
    "### 資料讀入"
   ]
  },
  {
   "cell_type": "code",
   "execution_count": 110,
   "metadata": {},
   "outputs": [
    {
     "name": "stdout",
     "output_type": "stream",
     "text": [
      "第0列: [15],資料型態: <class 'list'>\n",
      "第1列: [70, 73, 77, 80, 82, 87, 90, 94, 98, 106, 110, 113, 115, 118, 120],資料型態: <class 'list'>\n",
      "第2列: [135, 139, 149, 150, 156, 163, 173, 184, 192, 201, 210, 214, 221, 229, 240],資料型態: <class 'list'>\n",
      "第3列: [750],資料型態: <class 'list'>\n"
     ]
    }
   ],
   "source": [
    "# 套件導入\n",
    "import time\n",
    "import os\n",
    "import pandas as pd\n",
    "import numpy as np\n",
    "from gurobipy import *\n",
    "\n",
    "# 結果資料夾建立\n",
    "# 如果不存在則創建目錄輸出\n",
    "if not os.path.isdir('output'): \n",
    "    os.mkdir('output')\n",
    "\n",
    "# 題庫讀取\n",
    "df = pd.read_csv(\"./data.txt\", header=None)\n",
    "# print(df)\n",
    "\n",
    "# print(file)\n",
    "# s = pd.Series(file)\n",
    "\n",
    "# 轉換資料\n",
    "# str => str_list\n",
    "data = df.values.tolist()\n",
    "data_0 = data[0][0].split(\" \")\n",
    "data_1 = data[1][0].split(\"  \")\n",
    "data_2 = data[2][0].split(\" \")\n",
    "data_3 = data[3][0].split(\" \")\n",
    "# print(data_0)\n",
    "# print(data_1)\n",
    "# print(data_2)\n",
    "# print(data_3)\n",
    "\n",
    "# 用for 跑暫時無解 data.txt => str_of_list => num_of_list\n",
    "# for i in file:\n",
    "    # print(i)\n",
    "    # print(type(i))\n",
    "\n",
    "    # list_str = i.split()\n",
    "    # list(map(int,list_str[0]))\n",
    "    # print(list_str)\n",
    "\n",
    "# str_list => num_list\n",
    "# 第一列\n",
    "data_0_list_num = list(map(int,data_0))\n",
    "print(f\"第0列: {data_0_list_num},資料型態: {type(data_0_list_num)}\")\n",
    "# 第二列\n",
    "data_1_list_num = list(map(int,data_1))\n",
    "print(f\"第1列: {data_1_list_num},資料型態: {type(data_1_list_num)}\")\n",
    "# 第三列\n",
    "data_2_list_num = list(map(int,data_2))\n",
    "print(f\"第2列: {data_2_list_num},資料型態: {type(data_2_list_num)}\")\n",
    "# 第四列\n",
    "data_3_list_num = list(map(int,data_3))\n",
    "print(f\"第3列: {data_3_list_num},資料型態: {type(data_3_list_num)}\")\n",
    "# print(f\"第一部分:{list_num[0]}\")\n",
    "# print(f\"第一部分:{list_num[1]}\")\n",
    "# print(f\"第一部分:{list_num[2]}\")"
   ]
  },
  {
   "cell_type": "markdown",
   "metadata": {},
   "source": [
    "### 宣告變數\n",
    "變數<br>\n",
    "sample:數量<br>\n",
    "c:價值<br>\n",
    "A:重量<br>\n",
    "b:背包容積<br>\n"
   ]
  },
  {
   "cell_type": "code",
   "execution_count": 111,
   "metadata": {},
   "outputs": [
    {
     "name": "stdout",
     "output_type": "stream",
     "text": [
      "15\n",
      "150\n",
      "<class 'int'>\n",
      "80\n",
      "750\n",
      "15 15\n"
     ]
    }
   ],
   "source": [
    "# 定義\n",
    "# 物品數量\n",
    "sample = data_0_list_num[0]\n",
    "print(sample)\n",
    "# 物品價值\n",
    "c = np.array(data_2_list_num)\n",
    "print(c[3])\n",
    "print(type(int(c[3])))\n",
    "# 物品重量\n",
    "A = np.array(data_1_list_num)\n",
    "print(A[3])\n",
    "# 背包容積\n",
    "b = data_3_list_num[0]\n",
    "print(b)\n",
    "# 物品數量\n",
    "print(c.shape[0], A.shape[0])\n"
   ]
  },
  {
   "cell_type": "markdown",
   "metadata": {},
   "source": [
    "### 跑Gurobi_Model\n",
    "變數<br>\n",
    "model:選擇的模型<br>\n",
    "x: 目前未知<br>\n",
    "obj: 計算的多項式<br>\n",
    "\n"
   ]
  },
  {
   "cell_type": "code",
   "execution_count": 112,
   "metadata": {},
   "outputs": [
    {
     "data": {
      "text/plain": [
       "<gurobi.Constr *Awaiting Model Update*>"
      ]
     },
     "execution_count": 112,
     "metadata": {},
     "output_type": "execute_result"
    }
   ],
   "source": [
    "# 模型設定\n",
    "model = Model(\"Knapsack\")\n",
    "# variables\n",
    "x = model.addVars(c.shape[0], lb = 0, vtype = GRB.BINARY, name = \"x\") \n",
    "model.update()\n",
    "\n",
    "obj = sum(c[i] * x[i] for i in range(c.shape[0]))\n",
    "# 或\"MINIMIZE\"\n",
    "model.setObjective(obj, GRB.MAXIMIZE)\n",
    "# constraint\n",
    "model.addConstr( quicksum(A[i] * x[i] for i in range(A.shape[0])) <= b) "
   ]
  },
  {
   "cell_type": "markdown",
   "metadata": {},
   "source": [
    "### 輸出結果\n",
    "\n",
    "變數<br>\n",
    "t: 開始時間<br>\n",
    "t_opt: 結束時間<br>\n",
    "out: 計算結果<br>\n",
    "total: 總價值<br>"
   ]
  },
  {
   "cell_type": "code",
   "execution_count": 133,
   "metadata": {},
   "outputs": [
    {
     "name": "stdout",
     "output_type": "stream",
     "text": [
      "Gurobi Optimizer version 10.0.0 build v10.0.0rc2 (linux64)\n",
      "\n",
      "CPU model: Intel(R) Xeon(R) CPU @ 2.20GHz, instruction set [SSE2|AVX|AVX2]\n",
      "Thread count: 2 physical cores, 4 logical processors, using up to 4 threads\n",
      "\n",
      "Optimize a model with 1 rows, 15 columns and 15 nonzeros\n",
      "Model fingerprint: 0xea7723e7\n",
      "Variable types: 0 continuous, 15 integer (15 binary)\n",
      "Coefficient statistics:\n",
      "  Matrix range     [7e+01, 1e+02]\n",
      "  Objective range  [1e+02, 2e+02]\n",
      "  Bounds range     [1e+00, 1e+00]\n",
      "  RHS range        [8e+02, 8e+02]\n",
      "\n",
      "\n",
      "Presolve removed 1 rows and 15 columns\n",
      "Presolve time: 0.00s\n",
      "Presolve: All rows and columns removed\n",
      "\n",
      "Explored 0 nodes (0 simplex iterations) in 0.01 seconds (0.00 work units)\n",
      "Thread count was 1 (of 4 available processors)\n",
      "\n",
      "Solution count 2: 1458 1249 \n",
      "\n",
      "Optimal solution found (tolerance 1.00e-04)\n",
      "Best objective 1.458000000000e+03, best bound 1.458000000000e+03, gap 0.0000%\n",
      "Optimization time: 0.03258576099999999 seconds\n",
      "[['x[0]', 1.0], ['x[1]', 0.0], ['x[2]', 1.0], ['x[3]', 0.0], ['x[4]', 1.0], ['x[5]', 0.0], ['x[6]', 1.0], ['x[7]', 1.0], ['x[8]', 1.0], ['x[9]', 0.0], ['x[10]', 0.0], ['x[11]', 0.0], ['x[12]', 0.0], ['x[13]', 1.0], ['x[14]', 1.0]]\n",
      "135\n",
      "135\n",
      "284\n",
      "284\n",
      "440\n",
      "440\n",
      "613\n",
      "797\n",
      "989\n",
      "989\n",
      "989\n",
      "989\n",
      "989\n",
      "1218\n",
      "1458\n",
      "Recording output time: 0.004757088999999937  seconds\n"
     ]
    }
   ],
   "source": [
    "\n",
    "# 用作開始時間的當前時間\n",
    "t = time.process_time()\n",
    "model.optimize()\n",
    "t_opt = time.process_time()\n",
    "# 結束時間減去開始時間\n",
    "print(f\"Optimization time: {t_opt - t} seconds\")\n",
    "# 將優化問題存儲為文本文件。可以檢查問題\n",
    "model.write('output/Knapsack.lp')\n",
    "\n",
    "# 將變量名稱和值附加到輸出列表\n",
    "out = [] \n",
    "total = 0\n",
    "\n",
    "for i in model.getVars():\n",
    "    # 將變量名稱和值附加到輸出列表\n",
    "    out.append([i.varName, i.x]) \n",
    "print(out)\n",
    "# 加總\n",
    "for i in range(sample):\n",
    "    total += c[i]*out[i][1]\n",
    "    print(int(total))\n",
    "# 存儲為 Pandas 數據框\n",
    "out.append([\"total_value\",total])\n",
    "df = pd.DataFrame(out) \n",
    "\n",
    "# 輸出為 Excel（或 csv）文件\n",
    "df.to_csv('output/Knapsack.csv') \n",
    "t_rec = time.process_time()\n",
    "print(\"Recording output time:\", t_rec - t_opt, \" seconds\")"
   ]
  }
 ],
 "metadata": {
  "kernelspec": {
   "display_name": "Python 3.7.12 ('myenv')",
   "language": "python",
   "name": "python3"
  },
  "language_info": {
   "codemirror_mode": {
    "name": "ipython",
    "version": 3
   },
   "file_extension": ".py",
   "mimetype": "text/x-python",
   "name": "python",
   "nbconvert_exporter": "python",
   "pygments_lexer": "ipython3",
   "version": "3.7.12 | packaged by conda-forge | (default, Oct 26 2021, 06:08:53) \n[GCC 9.4.0]"
  },
  "orig_nbformat": 4,
  "vscode": {
   "interpreter": {
    "hash": "266e07f64aa3f1afd9991a0b824d04fa241a0ccb3b0a1eb69e96cbe416527717"
   }
  }
 },
 "nbformat": 4,
 "nbformat_minor": 2
}
